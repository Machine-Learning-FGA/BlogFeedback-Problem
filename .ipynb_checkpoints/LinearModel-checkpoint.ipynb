{
 "cells": [
  {
   "cell_type": "markdown",
   "metadata": {},
   "source": [
    "Informação sobre o dataset\n",
    "\n",
    "Number |Attribute Information\n",
    "--|--\n",
    "1...50 | Average, standard deviation, min, max and median of the Attributes 51...60 for the source of the current blog post. With source we mean the blog on which the post appeared. For example, myblog.blog.org would be the source of the post myblog.blog.org/post_2010_09_10 \n",
    "51| Total number of comments before basetime \n",
    "52| Number of comments in the last 24 hours before the basetime \n",
    "53| Let T1 denote the datetime 48 hours before basetime, Let T2 denote the datetime 24 hours before basetime. This attribute is the number of comments in the time period between T1 and T2 \n",
    "54| Number of comments in the first 24 hours after the publication of the blog post, but before basetime \n",
    "55| The difference of Attribute 52 and Attribute 53 \n",
    "56...60| The same features as the attributes 51...55, but features 56...60 refer to the number of links (trackbacks), while features 51...55 refer to the number of comments. \n",
    "61| The length of time between the publication of the blog post and basetime \n",
    "62| The length of the blog post \n",
    "63...262| The 200 bag of words features for 200 frequent words of the text of the blog post \n",
    "263...269| binary indicator features (0 or 1) for the weekday (Monday...Sunday) of the basetime \n",
    "270...276| binary indicator features (0 or 1) for the weekday (Monday...Sunday) of the date of publication of the blog post \n",
    "277| Number of parent pages: we consider a blog post P as a parent of blog post B, if B is a reply (trackback) to  blog post P. \n",
    "278...280| Minimum, maximum, average number of comments that the parents received \n",
    "281| The target: the number of comments in the next 24 hours (relative to basetime)\n",
    "\n",
    "\n",
    "\n"
   ]
  },
  {
   "cell_type": "code",
   "execution_count": 37,
   "metadata": {
    "collapsed": false
   },
   "outputs": [],
   "source": [
    "import numpy as np \n",
    "import matplotlib.pyplot as plt \n",
    "import pandas as pd\n",
    "from sklearn.svm import LinearSVR\n",
    "import os"
   ]
  },
  {
   "cell_type": "code",
   "execution_count": 27,
   "metadata": {
    "collapsed": false
   },
   "outputs": [
    {
     "name": "stdout",
     "output_type": "stream",
     "text": [
      "(52397, 280)\n"
     ]
    }
   ],
   "source": [
    "data_train = pd.read_csv('blogdata/blogData_train.csv', header=None)\n"
   ]
  },
  {
   "cell_type": "code",
   "execution_count": 30,
   "metadata": {
    "collapsed": false
   },
   "outputs": [
    {
     "name": "stdout",
     "output_type": "stream",
     "text": [
      "(52397, 279)\n",
      "(52397, 1)\n"
     ]
    }
   ],
   "source": [
    "x_train = np.array(data_train.iloc[:,0:279])\n",
    "y_train = np.array(data_train.iloc[:,[280]])\n",
    "print(x_train.shape)\n",
    "print(y_train.shape)"
   ]
  },
  {
   "cell_type": "code",
   "execution_count": 34,
   "metadata": {
    "collapsed": false
   },
   "outputs": [
    {
     "name": "stderr",
     "output_type": "stream",
     "text": [
      "/home/gustavo/.virtualenvs/das/local/lib/python2.7/site-packages/sklearn/utils/validation.py:547: DataConversionWarning: A column-vector y was passed when a 1d array was expected. Please change the shape of y to (n_samples, ), for example using ravel().\n",
      "  y = column_or_1d(y, warn=True)\n"
     ]
    },
    {
     "data": {
      "text/plain": [
       "LinearSVR(C=1.0, dual=True, epsilon=0.0, fit_intercept=True,\n",
       "     intercept_scaling=1.0, loss='epsilon_insensitive', max_iter=1000,\n",
       "     random_state=0, tol=0.0001, verbose=0)"
      ]
     },
     "execution_count": 34,
     "metadata": {},
     "output_type": "execute_result"
    }
   ],
   "source": [
    "regr = LinearSVR(random_state=0)\n",
    "regr.fit(x_train, y_train)"
   ]
  },
  {
   "cell_type": "code",
   "execution_count": 35,
   "metadata": {
    "collapsed": false
   },
   "outputs": [
    {
     "name": "stdout",
     "output_type": "stream",
     "text": [
      "[ -4.36839631e-01   4.87548575e-02   1.39098676e-02   6.89261532e-03\n",
      "  -9.41315279e-02   1.15816627e+00  -5.04093620e-01  -1.30438942e-01\n",
      "   3.19471145e-02  -3.37245731e-02   1.68550829e-01  -6.76843019e-02\n",
      "   0.00000000e+00  -4.31901411e-02   1.77202388e-01  -1.07000703e-01\n",
      "   8.83348055e-02   1.39098676e-02  -1.25027404e-03   1.33335768e-01\n",
      "   9.89617779e-01   2.51745387e-01  -8.30166175e-03   2.50816339e-02\n",
      "   1.55875224e-01  -7.62826820e-02  -1.05701160e-01   8.56993638e-03\n",
      "  -1.60548564e-02   1.55694993e-01  -4.46029064e-02  -7.37868194e-03\n",
      "   0.00000000e+00  -6.90385889e-02  -5.73900569e-02   3.55596176e-02\n",
      "   2.57546102e-02   0.00000000e+00   3.31363759e-01  -5.68654517e-02\n",
      "  -7.16275157e-02   4.06522825e-02   8.56993638e-03   6.03616063e-02\n",
      "   4.02428442e-02  -8.01624624e-02  -8.00761223e-04   2.33798851e-01\n",
      "  -9.13586373e-02   8.06000103e-02  -1.05342753e-02   1.24722999e-01\n",
      "   5.47258119e-02  -3.83373558e-02   6.99971873e-02  -2.68530914e-01\n",
      "   2.01646709e-02  -7.05981727e-03   3.02962866e-01   2.72244882e-02\n",
      "   7.35282564e-03  -4.00351445e-03   2.25998170e-02  -2.02740127e-01\n",
      "  -2.44874578e-03  -6.64808165e-03  -5.31363253e-02  -8.85729813e-02\n",
      "   3.09496723e-01  -1.13100903e-02  -1.47052006e-02   3.24812735e-01\n",
      "  -2.44874578e-03  -2.34140915e-02  -2.49088657e-02  -2.44874578e-03\n",
      "   2.86824532e-01  -1.21052179e-02   5.08857673e-02  -2.44874578e-03\n",
      "  -2.44874578e-03  -5.27023451e-02  -5.03579887e-03  -1.45076472e-02\n",
      "   8.41726497e-03  -5.50582488e-02  -8.23191710e-03   3.36474758e-02\n",
      "  -2.44477188e-01   1.99104895e-02  -1.63067687e-02   8.28467936e-02\n",
      "   1.40247906e-02  -2.44874578e-03  -5.30905605e-03   9.17627709e-02\n",
      "  -2.44874578e-03  -2.01520562e-03  -7.38813046e-03  -2.32085771e-02\n",
      "   1.92198645e-02   5.97888422e-02   3.88683015e-02  -9.48244057e-02\n",
      "   1.26086499e-02  -1.16403511e-02  -2.87765486e-02   1.88549684e-02\n",
      "  -2.49608102e-03  -1.44575513e-01   6.55964064e-04  -3.37384181e-03\n",
      "  -3.33258529e-03  -3.06644696e-01  -5.38466409e-02  -1.00356493e-01\n",
      "  -2.65983346e-03   2.31785707e-03  -1.94200458e-02   2.12682267e-01\n",
      "   1.92252223e-02  -1.21581595e-01  -3.85244240e-03  -1.87169561e-03\n",
      "   8.81565844e-02  -1.12409958e-02  -5.14370174e-02  -7.62656821e-02\n",
      "  -2.30408945e-03  -2.44874578e-03  -4.59487412e-02  -2.44874578e-03\n",
      "  -5.61442210e-03  -1.37599911e-01  -1.52477214e-02   1.17702914e-01\n",
      "   1.66492632e-02   3.34426590e-02  -3.32844893e-03  -7.93565593e-02\n",
      "  -1.04893803e-01   1.15264592e-03  -1.45895486e-01  -2.24448098e-03\n",
      "  -3.76579037e-02  -1.23063761e-02  -5.60181644e-02  -4.49712762e-03\n",
      "  -2.44874578e-03  -9.01375590e-03   8.83344484e-02  -8.10986133e-03\n",
      "  -6.93270153e-02   1.15304339e-01  -4.76362109e-03  -2.44874578e-03\n",
      "  -2.42735533e-02   9.79523056e-02  -4.68603174e-02  -1.88350462e-02\n",
      "  -2.44874578e-03  -7.40127834e-02   4.22091734e-02   3.84707474e-03\n",
      "  -5.52102225e-03  -2.44874578e-03  -5.62604012e-03  -2.70622315e-03\n",
      "  -2.44874578e-03  -2.48433854e-01   7.56236828e-02  -2.44874578e-03\n",
      "  -4.36866705e-03  -6.48051834e-02  -4.18097561e-02  -2.39837752e-02\n",
      "  -1.04836103e-02  -2.45694640e-03  -2.44874578e-03  -5.24484595e-02\n",
      "  -1.07545816e-01  -4.82447375e-04  -1.45223295e-01   4.77590878e-03\n",
      "   2.21388394e-03   1.59634127e-02  -7.18279221e-02  -2.50999104e-02\n",
      "  -2.25958286e-02  -2.44874578e-03  -7.09287085e-02   1.21226656e-01\n",
      "  -3.26885460e-02  -3.08546787e-02   2.08663504e-02   3.56888073e-01\n",
      "  -1.24234142e-01  -2.44874578e-03  -8.84881610e-04  -2.44874578e-03\n",
      "  -1.82624361e-02   8.34877828e-02  -5.35990733e-03   4.94090568e-03\n",
      "  -9.81562640e-03  -1.22512369e-02  -4.78618304e-02   2.04714875e-02\n",
      "  -2.79811702e-02  -1.51915181e-01  -2.54841513e-02  -2.44874578e-03\n",
      "  -1.36286790e-01   1.56832604e-02  -2.14696288e-02   1.33343602e-01\n",
      "  -8.76513487e-03   3.76573804e-03  -8.60705032e-02   4.95883609e-03\n",
      "   1.16541538e-01  -4.16605433e-02  -2.46834890e-03  -5.81158441e-03\n",
      "  -2.36177082e-02   1.96394876e-01  -5.70647463e-02  -1.56173074e-01\n",
      "  -1.23252832e-02   6.06751773e-02  -2.84105083e-02   7.00544554e-02\n",
      "   1.69995960e-01   7.48970523e-02  -2.61275107e-03  -2.44874578e-03\n",
      "  -6.49307012e-02  -9.75032505e-03  -3.12189589e-03  -3.58032342e-03\n",
      "   6.91151498e-01  -5.34483093e-02  -2.44874578e-03  -3.20065039e-03\n",
      "  -7.12218331e-02  -2.64661971e-02  -1.37209402e-01   2.79014350e-02\n",
      "   2.18334500e-02  -2.44874578e-03  -5.58401368e-03   6.04682630e-02\n",
      "  -3.32071711e-03  -4.06110244e-02  -1.38380282e-01  -3.66749903e-03\n",
      "  -3.25574247e-02   7.03256312e-03  -6.91844519e-03   1.84497994e-02\n",
      "   5.83138896e-02  -4.01307444e-03   1.49221837e-02  -1.62531458e-02\n",
      "   1.35319251e-02   4.47665025e-02  -3.52297555e-02  -9.64894763e-02\n",
      "  -2.00094187e-02  -5.74762504e-03  -4.66143114e-02  -6.15539833e-02\n",
      "  -3.98995960e-02   5.66048556e-02   1.01065766e-02  -7.65710145e-03\n",
      "   3.91251778e-03   0.00000000e+00   3.55660663e-03]\n",
      "(52397, 281)\n"
     ]
    }
   ],
   "source": [
    "print(regr.coef_)\n",
    "print(data_train.shape)"
   ]
  },
  {
   "cell_type": "code",
   "execution_count": 40,
   "metadata": {
    "collapsed": false
   },
   "outputs": [
    {
     "name": "stdout",
     "output_type": "stream",
     "text": [
      "['blogData_test-2012.02.22.00_00.csv', 'blogData_test-2012.02.18.00_00.csv', 'blogData_test-2012.03.12.00_00.csv', 'blogData_test-2012.03.25.00_00.csv', 'blogData_test-2012.02.15.00_00.csv', 'blogData_test-2012.02.14.00_00.csv', 'blogData_test-2012.02.28.00_00.csv', 'blogData_test-2012.02.27.00_00.csv', 'blogData_test-2012.03.30.01_00.csv', 'blogData_test-2012.02.09.00_00.csv', 'blogData_test-2012.02.17.00_00.csv', 'blogData_test-2012.03.01.00_00.csv', 'blogData_test-2012.03.13.00_00.csv', 'blogData_test-2012.02.01.00_00.csv', 'blogData_test-2012.03.10.00_00.csv', 'blogData_test-2012.03.23.00_00.csv', 'blogData_test-2012.03.07.00_00.csv', 'blogData_test-2012.03.19.00_00.csv', 'blogData_test-2012.03.31.01_00.csv', 'blogData_test-2012.02.12.00_00.csv', 'blogData_test-2012.02.05.00_00.csv', 'blogData_test-2012.02.04.00_00.csv', 'blogData_test-2012.03.04.00_00.csv', 'blogData_test-2012.03.03.00_00.csv', 'blogData_test-2012.02.02.00_00.csv', 'blogData_test-2012.03.05.00_00.csv', 'blogData_test-2012.03.06.00_00.csv', 'blogData_test-2012.02.26.00_00.csv', 'blogData_test-2012.02.19.00_00.csv', 'blogData_test-2012.02.16.00_00.csv', 'blogData_test-2012.02.07.00_00.csv', 'blogData_test-2012.02.29.00_00.csv', 'blogData_test-2012.03.02.00_00.csv', 'blogData_test-2012.02.25.00_00.csv', 'blogData_test-2012.03.26.01_00.csv', 'blogData_test-2012.03.20.00_00.csv', 'blogData_test-2012.02.23.00_00.csv', 'blogData_test-2012.03.24.00_00.csv', 'blogData_test-2012.03.29.01_00.csv', 'blogData_test-2012.03.22.00_00.csv', 'blogData_test-2012.03.15.00_00.csv', 'blogData_test-2012.03.17.00_00.csv', 'blogData_test-2012.02.10.00_00.csv', 'blogData_test-2012.02.21.00_00.csv', 'blogData_test-2012.02.03.00_00.csv', 'blogData_test-2012.03.27.01_00.csv', 'blogData_test-2012.03.18.00_00.csv', 'blogData_test-2012.02.11.00_00.csv', 'blogData_test-2012.02.08.00_00.csv', 'blogData_test-2012.02.20.00_00.csv', 'blogData_test-2012.03.09.00_00.csv', 'blogData_test-2012.03.16.00_00.csv', 'blogData_test-2012.02.24.00_00.csv', 'blogData_test-2012.03.08.00_00.csv', 'blogData_test-2012.02.13.00_00.csv', 'blogData_test-2012.03.28.01_00.csv', 'blogData_test-2012.02.06.00_00.csv', 'blogData_test-2012.03.21.00_00.csv', 'blogData_test-2012.03.11.00_00.csv', 'blogData_test-2012.03.14.00_00.csv']\n"
     ]
    }
   ],
   "source": [
    "files_test = os.listdir(\"blogdata/\")\n",
    "files_test = [f for f in files_test if f.startswith(\"blogData_test\")]\n",
    "print(files_test)"
   ]
  },
  {
   "cell_type": "code",
   "execution_count": 43,
   "metadata": {
    "collapsed": false
   },
   "outputs": [],
   "source": [
    "data_tests = [pd.read_csv(os.path.join(\"blogdata\", f), header=None) for f in files_test]"
   ]
  },
  {
   "cell_type": "code",
   "execution_count": 47,
   "metadata": {
    "collapsed": false
   },
   "outputs": [],
   "source": [
    "data_tests = pd.concat(data_tests)"
   ]
  },
  {
   "cell_type": "code",
   "execution_count": 48,
   "metadata": {
    "collapsed": false
   },
   "outputs": [
    {
     "name": "stdout",
     "output_type": "stream",
     "text": [
      "(7624, 279)\n",
      "(7624, 1)\n"
     ]
    }
   ],
   "source": [
    "x_test = np.array(data_tests.iloc[:,0:279])\n",
    "y_test = np.array(data_tests.iloc[:,[280]])\n",
    "print(x_test.shape)\n",
    "print(y_test.shape)"
   ]
  },
  {
   "cell_type": "code",
   "execution_count": 49,
   "metadata": {
    "collapsed": false
   },
   "outputs": [
    {
     "name": "stdout",
     "output_type": "stream",
     "text": [
      "-0.0117953962212\n"
     ]
    }
   ],
   "source": [
    "print(regr.score(x_test, y_test))"
   ]
  },
  {
   "cell_type": "markdown",
   "metadata": {},
   "source": [
    "Importando dataset"
   ]
  },
  {
   "cell_type": "code",
   "execution_count": 2,
   "metadata": {
    "collapsed": false
   },
   "outputs": [
    {
     "ename": "IOError",
     "evalue": "File blogdata/test1.csv does not exist",
     "output_type": "error",
     "traceback": [
      "\u001b[0;31m---------------------------------------------------------------------------\u001b[0m",
      "\u001b[0;31mIOError\u001b[0m                                   Traceback (most recent call last)",
      "\u001b[0;32m<ipython-input-2-c8e7a5ee6b33>\u001b[0m in \u001b[0;36m<module>\u001b[0;34m()\u001b[0m\n\u001b[1;32m      2\u001b[0m \u001b[0;34m\u001b[0m\u001b[0m\n\u001b[1;32m      3\u001b[0m \u001b[0mdata_train\u001b[0m \u001b[0;34m=\u001b[0m \u001b[0mpd\u001b[0m\u001b[0;34m.\u001b[0m\u001b[0mread_csv\u001b[0m\u001b[0;34m(\u001b[0m\u001b[0;34m'blogdata/blogData_matriz.csv'\u001b[0m\u001b[0;34m)\u001b[0m\u001b[0;34m\u001b[0m\u001b[0m\n\u001b[0;32m----> 4\u001b[0;31m \u001b[0mdata_test\u001b[0m \u001b[0;34m=\u001b[0m \u001b[0mpd\u001b[0m\u001b[0;34m.\u001b[0m\u001b[0mread_csv\u001b[0m\u001b[0;34m(\u001b[0m\u001b[0;34m'blogdata/test1.csv'\u001b[0m\u001b[0;34m)\u001b[0m\u001b[0;34m\u001b[0m\u001b[0m\n\u001b[0m\u001b[1;32m      5\u001b[0m \u001b[0;34m\u001b[0m\u001b[0m\n\u001b[1;32m      6\u001b[0m \u001b[0;31m#pegando apenas 10000 amostras\u001b[0m\u001b[0;34m\u001b[0m\u001b[0;34m\u001b[0m\u001b[0m\n",
      "\u001b[0;32m/home/gustavo/.virtualenvs/das/local/lib/python2.7/site-packages/pandas/io/parsers.pyc\u001b[0m in \u001b[0;36mparser_f\u001b[0;34m(filepath_or_buffer, sep, delimiter, header, names, index_col, usecols, squeeze, prefix, mangle_dupe_cols, dtype, engine, converters, true_values, false_values, skipinitialspace, skiprows, skipfooter, nrows, na_values, keep_default_na, na_filter, verbose, skip_blank_lines, parse_dates, infer_datetime_format, keep_date_col, date_parser, dayfirst, iterator, chunksize, compression, thousands, decimal, lineterminator, quotechar, quoting, escapechar, comment, encoding, dialect, tupleize_cols, error_bad_lines, warn_bad_lines, skip_footer, doublequote, delim_whitespace, as_recarray, compact_ints, use_unsigned, low_memory, buffer_lines, memory_map, float_precision)\u001b[0m\n\u001b[1;32m    560\u001b[0m                     skip_blank_lines=skip_blank_lines)\n\u001b[1;32m    561\u001b[0m \u001b[0;34m\u001b[0m\u001b[0m\n\u001b[0;32m--> 562\u001b[0;31m         \u001b[0;32mreturn\u001b[0m \u001b[0m_read\u001b[0m\u001b[0;34m(\u001b[0m\u001b[0mfilepath_or_buffer\u001b[0m\u001b[0;34m,\u001b[0m \u001b[0mkwds\u001b[0m\u001b[0;34m)\u001b[0m\u001b[0;34m\u001b[0m\u001b[0m\n\u001b[0m\u001b[1;32m    563\u001b[0m \u001b[0;34m\u001b[0m\u001b[0m\n\u001b[1;32m    564\u001b[0m     \u001b[0mparser_f\u001b[0m\u001b[0;34m.\u001b[0m\u001b[0m__name__\u001b[0m \u001b[0;34m=\u001b[0m \u001b[0mname\u001b[0m\u001b[0;34m\u001b[0m\u001b[0m\n",
      "\u001b[0;32m/home/gustavo/.virtualenvs/das/local/lib/python2.7/site-packages/pandas/io/parsers.pyc\u001b[0m in \u001b[0;36m_read\u001b[0;34m(filepath_or_buffer, kwds)\u001b[0m\n\u001b[1;32m    313\u001b[0m \u001b[0;34m\u001b[0m\u001b[0m\n\u001b[1;32m    314\u001b[0m     \u001b[0;31m# Create the parser.\u001b[0m\u001b[0;34m\u001b[0m\u001b[0;34m\u001b[0m\u001b[0m\n\u001b[0;32m--> 315\u001b[0;31m     \u001b[0mparser\u001b[0m \u001b[0;34m=\u001b[0m \u001b[0mTextFileReader\u001b[0m\u001b[0;34m(\u001b[0m\u001b[0mfilepath_or_buffer\u001b[0m\u001b[0;34m,\u001b[0m \u001b[0;34m**\u001b[0m\u001b[0mkwds\u001b[0m\u001b[0;34m)\u001b[0m\u001b[0;34m\u001b[0m\u001b[0m\n\u001b[0m\u001b[1;32m    316\u001b[0m \u001b[0;34m\u001b[0m\u001b[0m\n\u001b[1;32m    317\u001b[0m     \u001b[0;32mif\u001b[0m \u001b[0;34m(\u001b[0m\u001b[0mnrows\u001b[0m \u001b[0;32mis\u001b[0m \u001b[0;32mnot\u001b[0m \u001b[0mNone\u001b[0m\u001b[0;34m)\u001b[0m \u001b[0;32mand\u001b[0m \u001b[0;34m(\u001b[0m\u001b[0mchunksize\u001b[0m \u001b[0;32mis\u001b[0m \u001b[0;32mnot\u001b[0m \u001b[0mNone\u001b[0m\u001b[0;34m)\u001b[0m\u001b[0;34m:\u001b[0m\u001b[0;34m\u001b[0m\u001b[0m\n",
      "\u001b[0;32m/home/gustavo/.virtualenvs/das/local/lib/python2.7/site-packages/pandas/io/parsers.pyc\u001b[0m in \u001b[0;36m__init__\u001b[0;34m(self, f, engine, **kwds)\u001b[0m\n\u001b[1;32m    643\u001b[0m             \u001b[0mself\u001b[0m\u001b[0;34m.\u001b[0m\u001b[0moptions\u001b[0m\u001b[0;34m[\u001b[0m\u001b[0;34m'has_index_names'\u001b[0m\u001b[0;34m]\u001b[0m \u001b[0;34m=\u001b[0m \u001b[0mkwds\u001b[0m\u001b[0;34m[\u001b[0m\u001b[0;34m'has_index_names'\u001b[0m\u001b[0;34m]\u001b[0m\u001b[0;34m\u001b[0m\u001b[0m\n\u001b[1;32m    644\u001b[0m \u001b[0;34m\u001b[0m\u001b[0m\n\u001b[0;32m--> 645\u001b[0;31m         \u001b[0mself\u001b[0m\u001b[0;34m.\u001b[0m\u001b[0m_make_engine\u001b[0m\u001b[0;34m(\u001b[0m\u001b[0mself\u001b[0m\u001b[0;34m.\u001b[0m\u001b[0mengine\u001b[0m\u001b[0;34m)\u001b[0m\u001b[0;34m\u001b[0m\u001b[0m\n\u001b[0m\u001b[1;32m    646\u001b[0m \u001b[0;34m\u001b[0m\u001b[0m\n\u001b[1;32m    647\u001b[0m     \u001b[0;32mdef\u001b[0m \u001b[0mclose\u001b[0m\u001b[0;34m(\u001b[0m\u001b[0mself\u001b[0m\u001b[0;34m)\u001b[0m\u001b[0;34m:\u001b[0m\u001b[0;34m\u001b[0m\u001b[0m\n",
      "\u001b[0;32m/home/gustavo/.virtualenvs/das/local/lib/python2.7/site-packages/pandas/io/parsers.pyc\u001b[0m in \u001b[0;36m_make_engine\u001b[0;34m(self, engine)\u001b[0m\n\u001b[1;32m    797\u001b[0m     \u001b[0;32mdef\u001b[0m \u001b[0m_make_engine\u001b[0m\u001b[0;34m(\u001b[0m\u001b[0mself\u001b[0m\u001b[0;34m,\u001b[0m \u001b[0mengine\u001b[0m\u001b[0;34m=\u001b[0m\u001b[0;34m'c'\u001b[0m\u001b[0;34m)\u001b[0m\u001b[0;34m:\u001b[0m\u001b[0;34m\u001b[0m\u001b[0m\n\u001b[1;32m    798\u001b[0m         \u001b[0;32mif\u001b[0m \u001b[0mengine\u001b[0m \u001b[0;34m==\u001b[0m \u001b[0;34m'c'\u001b[0m\u001b[0;34m:\u001b[0m\u001b[0;34m\u001b[0m\u001b[0m\n\u001b[0;32m--> 799\u001b[0;31m             \u001b[0mself\u001b[0m\u001b[0;34m.\u001b[0m\u001b[0m_engine\u001b[0m \u001b[0;34m=\u001b[0m \u001b[0mCParserWrapper\u001b[0m\u001b[0;34m(\u001b[0m\u001b[0mself\u001b[0m\u001b[0;34m.\u001b[0m\u001b[0mf\u001b[0m\u001b[0;34m,\u001b[0m \u001b[0;34m**\u001b[0m\u001b[0mself\u001b[0m\u001b[0;34m.\u001b[0m\u001b[0moptions\u001b[0m\u001b[0;34m)\u001b[0m\u001b[0;34m\u001b[0m\u001b[0m\n\u001b[0m\u001b[1;32m    800\u001b[0m         \u001b[0;32melse\u001b[0m\u001b[0;34m:\u001b[0m\u001b[0;34m\u001b[0m\u001b[0m\n\u001b[1;32m    801\u001b[0m             \u001b[0;32mif\u001b[0m \u001b[0mengine\u001b[0m \u001b[0;34m==\u001b[0m \u001b[0;34m'python'\u001b[0m\u001b[0;34m:\u001b[0m\u001b[0;34m\u001b[0m\u001b[0m\n",
      "\u001b[0;32m/home/gustavo/.virtualenvs/das/local/lib/python2.7/site-packages/pandas/io/parsers.pyc\u001b[0m in \u001b[0;36m__init__\u001b[0;34m(self, src, **kwds)\u001b[0m\n\u001b[1;32m   1211\u001b[0m         \u001b[0mkwds\u001b[0m\u001b[0;34m[\u001b[0m\u001b[0;34m'allow_leading_cols'\u001b[0m\u001b[0;34m]\u001b[0m \u001b[0;34m=\u001b[0m \u001b[0mself\u001b[0m\u001b[0;34m.\u001b[0m\u001b[0mindex_col\u001b[0m \u001b[0;32mis\u001b[0m \u001b[0;32mnot\u001b[0m \u001b[0mFalse\u001b[0m\u001b[0;34m\u001b[0m\u001b[0m\n\u001b[1;32m   1212\u001b[0m \u001b[0;34m\u001b[0m\u001b[0m\n\u001b[0;32m-> 1213\u001b[0;31m         \u001b[0mself\u001b[0m\u001b[0;34m.\u001b[0m\u001b[0m_reader\u001b[0m \u001b[0;34m=\u001b[0m \u001b[0m_parser\u001b[0m\u001b[0;34m.\u001b[0m\u001b[0mTextReader\u001b[0m\u001b[0;34m(\u001b[0m\u001b[0msrc\u001b[0m\u001b[0;34m,\u001b[0m \u001b[0;34m**\u001b[0m\u001b[0mkwds\u001b[0m\u001b[0;34m)\u001b[0m\u001b[0;34m\u001b[0m\u001b[0m\n\u001b[0m\u001b[1;32m   1214\u001b[0m \u001b[0;34m\u001b[0m\u001b[0m\n\u001b[1;32m   1215\u001b[0m         \u001b[0;31m# XXX\u001b[0m\u001b[0;34m\u001b[0m\u001b[0;34m\u001b[0m\u001b[0m\n",
      "\u001b[0;32mpandas/parser.pyx\u001b[0m in \u001b[0;36mpandas.parser.TextReader.__cinit__ (pandas/parser.c:3427)\u001b[0;34m()\u001b[0m\n",
      "\u001b[0;32mpandas/parser.pyx\u001b[0m in \u001b[0;36mpandas.parser.TextReader._setup_parser_source (pandas/parser.c:6861)\u001b[0;34m()\u001b[0m\n",
      "\u001b[0;31mIOError\u001b[0m: File blogdata/test1.csv does not exist"
     ]
    }
   ],
   "source": [
    "#O arquivo train.csv e test1.csv são arquivos do problema renomeados\n",
    "\n",
    "data_train = pd.read_csv('blogdata/blogData_matriz.csv')\n",
    "data_test = pd.read_csv('blogdata/test1.csv')\n",
    "\n",
    "#pegando apenas 10000 amostras \n",
    "\n",
    "x_train = np.array(data_train.iloc[0:10000,0:280])\n",
    "y_train = np.array(data_train.iloc[0:10000,-1])\n",
    "print(x_train.shape)\n",
    "\n",
    "\n",
    "x_test = np.array(data_test.iloc[0:10000,0:280])\n",
    "y_test = np.array(data_test.iloc[0:10000,-1])\n"
   ]
  },
  {
   "cell_type": "markdown",
   "metadata": {},
   "source": [
    "Iniciando modelo"
   ]
  },
  {
   "cell_type": "code",
   "execution_count": 3,
   "metadata": {
    "collapsed": true
   },
   "outputs": [],
   "source": [
    "from sklearn.linear_model import Lasso\n",
    "from sklearn.feature_selection import VarianceThreshold\n",
    "\n",
    "model = Lasso(max_iter=5000)"
   ]
  },
  {
   "cell_type": "code",
   "execution_count": 4,
   "metadata": {
    "collapsed": false
   },
   "outputs": [
    {
     "name": "stdout",
     "output_type": "stream",
     "text": [
      "(10000, 280)\n",
      "(10000, 270)\n"
     ]
    }
   ],
   "source": [
    "refcv = VarianceThreshold()\n",
    "print(x_train.shape)\n",
    "x_train = refcv.fit_transform(x_train,y_train)\n",
    "x_test = refcv.fit_transform(x_test,y_test)\n",
    "\n",
    "print(x_train.shape)\n",
    "\n"
   ]
  },
  {
   "cell_type": "markdown",
   "metadata": {},
   "source": [
    "Treinando"
   ]
  },
  {
   "cell_type": "code",
   "execution_count": 5,
   "metadata": {
    "collapsed": false
   },
   "outputs": [
    {
     "data": {
      "text/plain": [
       "Lasso(alpha=1.0, copy_X=True, fit_intercept=True, max_iter=5000,\n",
       "   normalize=False, positive=False, precompute=False, random_state=None,\n",
       "   selection='cyclic', tol=0.0001, warm_start=False)"
      ]
     },
     "execution_count": 5,
     "metadata": {},
     "output_type": "execute_result"
    }
   ],
   "source": [
    "model.fit(x_train,y_train)"
   ]
  },
  {
   "cell_type": "markdown",
   "metadata": {},
   "source": [
    "Cross Validate"
   ]
  },
  {
   "cell_type": "code",
   "execution_count": 6,
   "metadata": {
    "collapsed": false
   },
   "outputs": [
    {
     "name": "stderr",
     "output_type": "stream",
     "text": [
      "/home/felipe/ambientes/ml/lib/python3.5/site-packages/sklearn/linear_model/coordinate_descent.py:491: ConvergenceWarning: Objective did not converge. You might want to increase the number of iterations. Fitting data with very small alpha may cause precision problems.\n",
      "  ConvergenceWarning)\n",
      "/home/felipe/ambientes/ml/lib/python3.5/site-packages/sklearn/linear_model/coordinate_descent.py:491: ConvergenceWarning: Objective did not converge. You might want to increase the number of iterations. Fitting data with very small alpha may cause precision problems.\n",
      "  ConvergenceWarning)\n"
     ]
    },
    {
     "name": "stdout",
     "output_type": "stream",
     "text": [
      "[ 0.57141902  0.59880229 -1.42472772]\n"
     ]
    },
    {
     "name": "stderr",
     "output_type": "stream",
     "text": [
      "/home/felipe/ambientes/ml/lib/python3.5/site-packages/sklearn/linear_model/coordinate_descent.py:491: ConvergenceWarning: Objective did not converge. You might want to increase the number of iterations. Fitting data with very small alpha may cause precision problems.\n",
      "  ConvergenceWarning)\n"
     ]
    }
   ],
   "source": [
    "from sklearn.model_selection import cross_val_score\n",
    "\n",
    "print(cross_val_score(model,x_test,y_test))"
   ]
  }
 ],
 "metadata": {
  "kernelspec": {
   "display_name": "Python 2",
   "language": "python",
   "name": "python2"
  },
  "language_info": {
   "codemirror_mode": {
    "name": "ipython",
    "version": 2
   },
   "file_extension": ".py",
   "mimetype": "text/x-python",
   "name": "python",
   "nbconvert_exporter": "python",
   "pygments_lexer": "ipython2",
   "version": "2.7.6"
  }
 },
 "nbformat": 4,
 "nbformat_minor": 2
}
